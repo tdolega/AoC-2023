{
 "cells": [
  {
   "cell_type": "code",
   "execution_count": 4,
   "metadata": {},
   "outputs": [
    {
     "name": "stdout",
     "output_type": "stream",
     "text": [
      "Part one:\n",
      "142\n",
      "54951\n",
      "Part two:\n",
      "281\n",
      "55218\n"
     ]
    }
   ],
   "source": [
    "NAME_DIGIT_PAIRS = (\n",
    "    (\"one\", \"1\"),\n",
    "    (\"two\", \"2\"),\n",
    "    (\"three\", \"3\"),\n",
    "    (\"four\", \"4\"),\n",
    "    (\"five\", \"5\"),\n",
    "    (\"six\", \"6\"),\n",
    "    (\"seven\", \"7\"),\n",
    "    (\"eight\", \"8\"),\n",
    "    (\"nine\", \"9\"),\n",
    ")\n",
    "\n",
    "\n",
    "def get_first_digit(line, iterator, only_numeric):\n",
    "    for i in iterator:\n",
    "        char = line[i]\n",
    "        if char.isdigit():\n",
    "            return char\n",
    "        if only_numeric:\n",
    "            continue\n",
    "        for digit_name, digit in NAME_DIGIT_PAIRS:\n",
    "            l = len(digit_name)\n",
    "            if line[i : i + l] == digit_name:\n",
    "                return digit\n",
    "\n",
    "\n",
    "def solve_line(line, only_numeric):\n",
    "    first_digit = get_first_digit(line, range(len(line)), only_numeric)\n",
    "    last_digit = get_first_digit(line, range(len(line) - 1, -1, -1), only_numeric)\n",
    "    return int(first_digit + last_digit)\n",
    "\n",
    "\n",
    "def solve(filename, only_numeric):\n",
    "    input_file = open(filename, \"r\")\n",
    "\n",
    "    total_sum = 0\n",
    "    for line in input_file:\n",
    "        total_sum += solve_line(line, only_numeric)\n",
    "    print(total_sum)\n",
    "\n",
    "    input_file.close()\n",
    "\n",
    "\n",
    "print(\"Part one:\")\n",
    "solve(\"test_input1.txt\", only_numeric=True)\n",
    "solve(\"input.txt\", only_numeric=True)\n",
    "\n",
    "print(\"Part two:\")\n",
    "solve(\"test_input2.txt\", only_numeric=False)\n",
    "solve(\"input.txt\", only_numeric=False)"
   ]
  }
 ],
 "metadata": {
  "kernelspec": {
   "display_name": "Python 3",
   "language": "python",
   "name": "python3"
  },
  "language_info": {
   "codemirror_mode": {
    "name": "ipython",
    "version": 3
   },
   "file_extension": ".py",
   "mimetype": "text/x-python",
   "name": "python",
   "nbconvert_exporter": "python",
   "pygments_lexer": "ipython3",
   "version": "3.10.13"
  }
 },
 "nbformat": 4,
 "nbformat_minor": 2
}
