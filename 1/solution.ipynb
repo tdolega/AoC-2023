{
 "cells": [
  {
   "cell_type": "code",
   "execution_count": 44,
   "metadata": {},
   "outputs": [
    {
     "name": "stdout",
     "output_type": "stream",
     "text": [
      "142\n",
      "54951\n"
     ]
    }
   ],
   "source": [
    "def solve_line_one(line):\n",
    "    first_digit = None\n",
    "    last_digit = None\n",
    "    for char in line:\n",
    "        if not char.isdigit():\n",
    "            continue\n",
    "        if first_digit is None:\n",
    "            first_digit = char\n",
    "            last_digit = char\n",
    "        else:\n",
    "            last_digit = char\n",
    "    return int(first_digit + last_digit)\n",
    "\n",
    "def solution_part_one(filename):\n",
    "    input_file = open(filename, 'r')\n",
    "\n",
    "    total_sum = 0\n",
    "    for line in input_file:\n",
    "        total_sum += solve_line_one(line)\n",
    "    print(total_sum)\n",
    "\n",
    "    input_file.close()\n",
    "\n",
    "solution_part_one('test_input1.txt')\n",
    "solution_part_one('input.txt')"
   ]
  },
  {
   "cell_type": "code",
   "execution_count": 59,
   "metadata": {},
   "outputs": [
    {
     "name": "stdout",
     "output_type": "stream",
     "text": [
      "281\n",
      "55218\n"
     ]
    }
   ],
   "source": [
    "name_digits_pairs = (\n",
    "    ('one', '1'),\n",
    "    ('two', '2'),\n",
    "    ('three', '3'),\n",
    "    ('four', '4'),\n",
    "    ('five', '5'),\n",
    "    ('six', '6'),\n",
    "    ('seven', '7'),\n",
    "    ('eight', '8'),\n",
    "    ('nine', '9'),\n",
    ")\n",
    "\n",
    "def get_first_digit(line, iter):\n",
    "    for i in iter:\n",
    "        char = line[i]\n",
    "        if char.isdigit():\n",
    "            return char\n",
    "        for digit_name, digit in name_digits_pairs:\n",
    "            l = len(digit_name)\n",
    "            if line[i:i+l] == digit_name:\n",
    "                return digit\n",
    "\n",
    "def solve_line_two(line):\n",
    "    first_digit = get_first_digit(line, range(len(line)))\n",
    "    last_digit = get_first_digit(line, range(len(line)-1, -1, -1))\n",
    "    return int(first_digit + last_digit)\n",
    "\n",
    "def solution_part_two(filename):\n",
    "    input_file = open(filename, 'r')\n",
    "\n",
    "    total_sum = 0\n",
    "    for line in input_file:\n",
    "        total_sum += solve_line_two(line)\n",
    "    print(total_sum)\n",
    "\n",
    "    input_file.close()\n",
    "\n",
    "solution_part_two('test_input2.txt')\n",
    "solution_part_two('input.txt')"
   ]
  }
 ],
 "metadata": {
  "kernelspec": {
   "display_name": "Python 3",
   "language": "python",
   "name": "python3"
  },
  "language_info": {
   "codemirror_mode": {
    "name": "ipython",
    "version": 3
   },
   "file_extension": ".py",
   "mimetype": "text/x-python",
   "name": "python",
   "nbconvert_exporter": "python",
   "pygments_lexer": "ipython3",
   "version": "3.11.6"
  }
 },
 "nbformat": 4,
 "nbformat_minor": 2
}
