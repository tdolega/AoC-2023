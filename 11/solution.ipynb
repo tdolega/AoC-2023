{
 "cells": [
  {
   "cell_type": "code",
   "execution_count": 18,
   "metadata": {},
   "outputs": [
    {
     "name": "stdout",
     "output_type": "stream",
     "text": [
      "Part one:\n",
      "9974721\n",
      "Part two:\n",
      "702770569197\n"
     ]
    }
   ],
   "source": [
    "def solve(filename, expand_multiplier=None):\n",
    "    with open(filename) as f:\n",
    "        lines = f.readlines()\n",
    "        lines = [list(line.strip()) for line in lines]\n",
    "\n",
    "    empty_rows = []\n",
    "    for i, row in enumerate(lines):\n",
    "        if all([c == '.' for c in row]):\n",
    "            empty_rows.append(i)\n",
    "    empty_cols = []\n",
    "    for i in range(len(lines[0])):\n",
    "        if all([lines[j][i] == '.' for j in range(len(lines))]):\n",
    "            empty_cols.append(i)\n",
    "    \n",
    "    galaxies = []\n",
    "    for i, row in enumerate(lines):\n",
    "        for j, c in enumerate(row):\n",
    "            if c == '#':\n",
    "                galaxies.append((i, j))\n",
    "\n",
    "    if expand_multiplier is None:\n",
    "        expand_multiplier = 1\n",
    "    else:\n",
    "        expand_multiplier -= 1\n",
    "    result = 0\n",
    "    for i in range(len(galaxies)):\n",
    "        for j in range(i + 1, len(galaxies)):\n",
    "            x1, y1 = galaxies[i]\n",
    "            x2, y2 = galaxies[j]\n",
    "            empty_rows_between = [row_idx for row_idx in empty_rows if row_idx > min(x1, x2) and row_idx < max(x1, x2)]\n",
    "            empty_cols_between = [col_idx for col_idx in empty_cols if col_idx > min(y1, y2) and col_idx < max(y1, y2)]\n",
    "            result += abs(x1 - x2) + abs(y1 - y2) + len(empty_rows_between) * expand_multiplier + len(empty_cols_between) * expand_multiplier\n",
    "    print(result)\n",
    "\n",
    "print('Part one:')\n",
    "# solve('test_input.txt')\n",
    "solve('input.txt')\n",
    "print('Part two:')\n",
    "# solve('test_input.txt', 10)\n",
    "# solve('test_input.txt', 100)\n",
    "solve('input.txt', 1000000)"
   ]
  }
 ],
 "metadata": {
  "kernelspec": {
   "display_name": "Python 3",
   "language": "python",
   "name": "python3"
  },
  "language_info": {
   "codemirror_mode": {
    "name": "ipython",
    "version": 3
   },
   "file_extension": ".py",
   "mimetype": "text/x-python",
   "name": "python",
   "nbconvert_exporter": "python",
   "pygments_lexer": "ipython3",
   "version": "3.11.6"
  }
 },
 "nbformat": 4,
 "nbformat_minor": 2
}
