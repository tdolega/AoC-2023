{
 "cells": [
  {
   "cell_type": "code",
   "execution_count": 29,
   "metadata": {},
   "outputs": [
    {
     "name": "stdout",
     "output_type": "stream",
     "text": [
      "Part one:\n",
      "  8\n",
      "  2913\n",
      "Part two:\n",
      "  2286\n",
      "  55593\n"
     ]
    }
   ],
   "source": [
    "def get_fewest_possible(grabs):\n",
    "    maxes = {\n",
    "        'red': 0,\n",
    "        'green': 0,\n",
    "        'blue': 0,\n",
    "    }\n",
    "    for grab in grabs.split(';'):\n",
    "        for single in grab.split(','):\n",
    "            n_cubes, color = single.split()\n",
    "            maxes[color] = max(maxes[color], int(n_cubes))\n",
    "    return maxes\n",
    "\n",
    "def solve(filename, score_fn):\n",
    "    input_file = open(filename, 'r')\n",
    "\n",
    "    result = 0\n",
    "    for line in input_file:\n",
    "        game_id, grabs = line.split(':')\n",
    "        game_id = int(game_id[5:])\n",
    "        fewest_possible = get_fewest_possible(grabs)\n",
    "        result += score_fn(game_id, fewest_possible)\n",
    "    print(f'  {result}')\n",
    "\n",
    "    input_file.close()\n",
    "\n",
    "def solve_1(filename):\n",
    "    constraints = {\n",
    "        'red': 12,\n",
    "        'green': 13,\n",
    "        'blue': 14,\n",
    "    }\n",
    "    def score_fn(game_id, cubes_count):\n",
    "        for color, n_cubes in cubes_count.items():\n",
    "            if n_cubes > constraints[color]:\n",
    "                return 0\n",
    "        return game_id\n",
    "    solve(filename, score_fn)\n",
    "\n",
    "print('Part one:')\n",
    "solve_1('test_input.txt')\n",
    "solve_1('input.txt')\n",
    "    \n",
    "def solve_2(filename):\n",
    "    def score_fn(game_id, cubes_count):\n",
    "        power = 1\n",
    "        for n_cubes in cubes_count.values():\n",
    "            power *= n_cubes\n",
    "        return power\n",
    "    solve(filename, score_fn)\n",
    "\n",
    "print('Part two:')\n",
    "solve_2('test_input.txt')\n",
    "solve_2('input.txt')"
   ]
  }
 ],
 "metadata": {
  "kernelspec": {
   "display_name": "p310",
   "language": "python",
   "name": "python3"
  },
  "language_info": {
   "codemirror_mode": {
    "name": "ipython",
    "version": 3
   },
   "file_extension": ".py",
   "mimetype": "text/x-python",
   "name": "python",
   "nbconvert_exporter": "python",
   "pygments_lexer": "ipython3",
   "version": "3.10.13"
  }
 },
 "nbformat": 4,
 "nbformat_minor": 2
}
