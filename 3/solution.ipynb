{
 "cells": [
  {
   "cell_type": "code",
   "execution_count": 15,
   "metadata": {},
   "outputs": [
    {
     "name": "stdout",
     "output_type": "stream",
     "text": [
      "Part one:\n",
      "  4361\n",
      "  525911\n",
      "Part two:\n",
      "  467835\n",
      "  75805607\n"
     ]
    }
   ],
   "source": [
    "from operator import mul\n",
    "\n",
    "def read_schematic(filename):\n",
    "    schematic = []\n",
    "    with open(filename, \"r\") as f:\n",
    "        for line in f:\n",
    "            schematic.append(\".\" + line.strip() + \".\")\n",
    "    empty_line = \".\" * len(schematic[0])\n",
    "    schematic.insert(0, empty_line)\n",
    "    schematic.append(empty_line)\n",
    "    return schematic\n",
    "\n",
    "def get_adjacent_symbols(schematic, y_center, x_start, x_end):\n",
    "    adjacent_symbols = []\n",
    "    for y in range(y_center - 1, y_center + 2):\n",
    "        for x in range(x_start - 1, x_end + 2):\n",
    "            char = schematic[y][x]\n",
    "            if char != \".\" and not char.isdigit():\n",
    "                adjacent_symbols.append((char, x, y))\n",
    "    return adjacent_symbols\n",
    "\n",
    "def get_all_symbols(filename):\n",
    "    schematic = read_schematic(filename)\n",
    "    symbols = {}\n",
    "    for y, row in enumerate(schematic):\n",
    "        x_start = None\n",
    "        for x, char in enumerate(row):\n",
    "            if char.isdigit():\n",
    "                if x_start is None:\n",
    "                    x_start = x\n",
    "            elif x_start is not None:\n",
    "                for identifier in get_adjacent_symbols(schematic, y, x_start, x - 1):\n",
    "                    if identifier not in symbols:\n",
    "                        symbols[identifier] = []\n",
    "                    number = int(row[x_start:x])\n",
    "                    symbols[identifier].append(number)\n",
    "                x_start = None\n",
    "    return symbols\n",
    "\n",
    "def solve_one(filename):\n",
    "    symbols = get_all_symbols(filename)\n",
    "    result = sum([sum(numbers) for numbers in symbols.values()])\n",
    "    print(f\"  {result}\")\n",
    "\n",
    "print(\"Part one:\")\n",
    "solve_one(\"test_input1.txt\")\n",
    "solve_one(\"input.txt\")\n",
    "\n",
    "def solve_two(filename):\n",
    "    symbols = get_all_symbols(filename)\n",
    "    result = 0\n",
    "    for (char, x, y), numbers in symbols.items():\n",
    "        if char == \"*\" and len(numbers) > 1:\n",
    "            result += mul(*numbers)\n",
    "    print(f\"  {result}\")\n",
    "\n",
    "print(\"Part two:\")\n",
    "solve_two(\"test_input2.txt\")\n",
    "solve_two(\"input.txt\")"
   ]
  }
 ],
 "metadata": {
  "kernelspec": {
   "display_name": "p310",
   "language": "python",
   "name": "python3"
  },
  "language_info": {
   "codemirror_mode": {
    "name": "ipython",
    "version": 3
   },
   "file_extension": ".py",
   "mimetype": "text/x-python",
   "name": "python",
   "nbconvert_exporter": "python",
   "pygments_lexer": "ipython3",
   "version": "3.10.13"
  }
 },
 "nbformat": 4,
 "nbformat_minor": 2
}
