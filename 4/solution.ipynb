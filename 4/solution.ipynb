{
 "cells": [
  {
   "cell_type": "code",
   "execution_count": 29,
   "metadata": {},
   "outputs": [
    {
     "name": "stdout",
     "output_type": "stream",
     "text": [
      "Part one:\n",
      "13\n",
      "18653\n",
      "Part two:\n",
      "30\n",
      "5921508\n"
     ]
    }
   ],
   "source": [
    "def solve(filename):\n",
    "    points = 0\n",
    "    card_count = {}\n",
    "\n",
    "    file_handle = open(filename, \"r\")\n",
    "    for line in file_handle:\n",
    "        card_id, numbers = line.split(\":\")\n",
    "        card_id = int(card_id[5:])\n",
    "        card_count[card_id] = card_count.get(card_id, 0) + 1\n",
    "        winning_numbers, got_numbers = numbers.split(\"|\")\n",
    "        winning_numbers = set(winning_numbers.split())\n",
    "        got_numbers = set(got_numbers.split())\n",
    "        n_hits = len(winning_numbers.intersection(got_numbers))\n",
    "        for i in range(card_id + 1, card_id + n_hits + 1):\n",
    "            card_count[i] = card_count.get(i, 0) + card_count[card_id]\n",
    "        if n_hits > 0:\n",
    "            points += 2 ** (n_hits - 1)\n",
    "    file_handle.close()\n",
    "\n",
    "    n_cards = sum(card_count.values())\n",
    "    return (points, n_cards)\n",
    "\n",
    "print(\"Part one:\")\n",
    "print(solve(\"test_input.txt\")[0])\n",
    "print(solve(\"input.txt\")[0])\n",
    "print(\"Part two:\")\n",
    "print(solve(\"test_input.txt\")[1])\n",
    "print(solve(\"input.txt\")[1])"
   ]
  }
 ],
 "metadata": {
  "kernelspec": {
   "display_name": "Python 3",
   "language": "python",
   "name": "python3"
  },
  "language_info": {
   "codemirror_mode": {
    "name": "ipython",
    "version": 3
   },
   "file_extension": ".py",
   "mimetype": "text/x-python",
   "name": "python",
   "nbconvert_exporter": "python",
   "pygments_lexer": "ipython3",
   "version": "3.10.13"
  }
 },
 "nbformat": 4,
 "nbformat_minor": 2
}
