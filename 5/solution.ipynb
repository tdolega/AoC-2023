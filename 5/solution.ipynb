{
 "cells": [
  {
   "cell_type": "code",
   "execution_count": 9,
   "metadata": {},
   "outputs": [
    {
     "name": "stdout",
     "output_type": "stream",
     "text": [
      "Part 1:\n",
      "35\n",
      "600279879\n",
      "Part 2:\n",
      "46\n",
      "20191102\n"
     ]
    }
   ],
   "source": [
    "def merge_layers(map1, map2):\n",
    "    merged_map = []\n",
    "    for minimum, maximum, diff in map1:\n",
    "        for minimum2, maximum2, diff2 in map2:\n",
    "            out_min = max(minimum, minimum2 - diff)\n",
    "            out_max = min(maximum, maximum2 - diff)\n",
    "            if out_min <= out_max:\n",
    "                merged_map.append((out_min, out_max, diff + diff2))\n",
    "    return merged_map\n",
    "\n",
    "\n",
    "def solve(filename, is_part_one):\n",
    "    with open(filename, \"r\") as f:\n",
    "        lines = f.readlines()\n",
    "\n",
    "    layers = []\n",
    "    current_map_idx = -1\n",
    "    for line in lines[1:]:\n",
    "        parts = line.split()\n",
    "        if len(parts) == 2:\n",
    "            current_map_idx += 1\n",
    "            layers.append([])\n",
    "        elif len(parts) == 3:\n",
    "            mapping = [int(part) for part in parts]\n",
    "            destination, source, length = mapping\n",
    "            mapping = (source, source + length, destination - source)\n",
    "            layers[current_map_idx].append(mapping)\n",
    "\n",
    "    for i, layer in enumerate(layers):\n",
    "        layers[i].sort(key=lambda x: x[0])\n",
    "        layers[i] = [(0, layer[0][0], 0)] + layer + [(layer[-1][1], float(\"inf\"), 0)]\n",
    "\n",
    "    merged_layers = layers[0]\n",
    "    for layer in layers[1:]:\n",
    "        merged_layers = merge_layers(merged_layers, layer)\n",
    "    merged_layers = [mapping for mapping in merged_layers if mapping[0] < mapping[1]]\n",
    "\n",
    "    seeds = lines[0].split()[1:]\n",
    "    seeds = [int(seed) for seed in seeds]\n",
    "    if is_part_one:\n",
    "        seeds = [[seed, 1] for seed in seeds]\n",
    "        seeds = [item for sublist in seeds for item in sublist]\n",
    "\n",
    "    result = float(\"inf\")\n",
    "    for i, (minimum, maximum, diff) in enumerate(merged_layers):\n",
    "        for min_seed, length_seed in zip(seeds[::2], seeds[1::2]):\n",
    "            max_seed = min_seed + length_seed\n",
    "            min_cond = max(minimum, min_seed)\n",
    "            max_cond = min(maximum, max_seed)\n",
    "            if min_cond <= max_cond:\n",
    "                result = min(result, min_cond + diff)\n",
    "    print(result)\n",
    "\n",
    "\n",
    "print(\"Part 1:\")\n",
    "solve(\"test_input.txt\", True)\n",
    "solve(\"input.txt\", True)\n",
    "print(\"Part 2:\")\n",
    "solve(\"test_input.txt\", False)\n",
    "solve(\"input.txt\", False)"
   ]
  }
 ],
 "metadata": {
  "kernelspec": {
   "display_name": "p310",
   "language": "python",
   "name": "python3"
  },
  "language_info": {
   "codemirror_mode": {
    "name": "ipython",
    "version": 3
   },
   "file_extension": ".py",
   "mimetype": "text/x-python",
   "name": "python",
   "nbconvert_exporter": "python",
   "pygments_lexer": "ipython3",
   "version": "3.10.13"
  }
 },
 "nbformat": 4,
 "nbformat_minor": 2
}
