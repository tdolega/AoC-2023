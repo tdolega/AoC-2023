{
 "cells": [
  {
   "cell_type": "code",
   "execution_count": 31,
   "metadata": {},
   "outputs": [
    {
     "name": "stdout",
     "output_type": "stream",
     "text": [
      "Part 1:\n",
      "288\n",
      "771628\n",
      "Part 2:\n",
      "71503\n",
      "27363861\n"
     ]
    }
   ],
   "source": [
    "def solve(filename, fix_kerning):\n",
    "    with open(filename) as f:\n",
    "        parsed = []\n",
    "        for line in f:\n",
    "            line = line.split()\n",
    "            line = line[1:]\n",
    "            if fix_kerning:\n",
    "                line = [int(''.join(line))]\n",
    "            else:\n",
    "                line = [int(x) for x in line]\n",
    "            parsed.append(line)\n",
    "    times, distances = parsed\n",
    "\n",
    "    result = 1\n",
    "    for race_time, best_distance in zip(times, distances):\n",
    "        n_better = 0\n",
    "        for hold_ms in range(race_time + 1):\n",
    "            speed = hold_ms\n",
    "            move_ms = race_time - hold_ms\n",
    "            distance_traveled = speed * move_ms\n",
    "            if distance_traveled > best_distance:\n",
    "                n_better += 1\n",
    "        result *= n_better\n",
    "    print(result)\n",
    "\n",
    "print('Part 1:')\n",
    "solve('test_input.txt', False)\n",
    "solve('input.txt', False)\n",
    "print('Part 2:')\n",
    "solve('test_input.txt', True)\n",
    "solve('input.txt', True)"
   ]
  }
 ],
 "metadata": {
  "kernelspec": {
   "display_name": "p310",
   "language": "python",
   "name": "python3"
  },
  "language_info": {
   "codemirror_mode": {
    "name": "ipython",
    "version": 3
   },
   "file_extension": ".py",
   "mimetype": "text/x-python",
   "name": "python",
   "nbconvert_exporter": "python",
   "pygments_lexer": "ipython3",
   "version": "3.10.13"
  }
 },
 "nbformat": 4,
 "nbformat_minor": 2
}
