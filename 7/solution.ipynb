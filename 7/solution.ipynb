{
 "cells": [
  {
   "cell_type": "code",
   "execution_count": 92,
   "metadata": {},
   "outputs": [
    {
     "name": "stdout",
     "output_type": "stream",
     "text": [
      "part one:\n",
      "6440\n",
      "251287184\n",
      "part two:\n",
      "5905\n",
      "250757288\n"
     ]
    }
   ],
   "source": [
    "# 7 - Five of a kind, where all five cards have the same label: AAAAA\n",
    "# 6 - Four of a kind, where four cards have the same label and one card has a different label: AA8AA\n",
    "# 5 - Full house, where three cards have the same label, and the remaining two cards share a different label: 23332\n",
    "# 4 - Three of a kind, where three cards have the same label, and the remaining two cards are each different from any other card in the hand: TTT98\n",
    "# 3 - Two pair, where two cards share one label, two other cards share a second label, and the remaining card has a third label: 23432\n",
    "# 2 - One pair, where two cards share one label, and the other three cards have a different label from the pair and each other: A23A4\n",
    "# 1 - High card, where all cards' labels are distinct: 23456\n",
    "def get_type_value(hand, is_joker_special):\n",
    "    counts = {}\n",
    "    for card in hand:\n",
    "        counts[card] = counts.get(card, 0) + 1\n",
    "    joker_count = 0\n",
    "    if is_joker_special and 'J' in counts and counts['J'] < 5:\n",
    "        joker_count += counts['J']\n",
    "        del counts['J']\n",
    "    values_sorted = sorted(counts.values(), reverse=True)\n",
    "    values_sorted[0] += joker_count\n",
    "    \n",
    "    if values_sorted[0] == 5:\n",
    "        return '7'\n",
    "    elif values_sorted[0] == 4:\n",
    "        return '6'\n",
    "    elif values_sorted[0] == 3:\n",
    "        if values_sorted[1] == 2:\n",
    "            return '5'\n",
    "        else:\n",
    "            return '4'\n",
    "    elif values_sorted[0] == 2:\n",
    "        if values_sorted[1] == 2:\n",
    "            return '3'\n",
    "        else:\n",
    "            return '2'\n",
    "    return '1'\n",
    "\n",
    "normal_cards = '23456789TJQKA'\n",
    "joker_cards = 'J23456789TQKA'\n",
    "def get_raw_value(hand, is_joker_special):\n",
    "    cards = joker_cards if is_joker_special else normal_cards\n",
    "    values = [str(cards.index(card)).zfill(2) for card in hand]\n",
    "    return ''.join(values)\n",
    "\n",
    "def get_value(hand, is_joker_special):\n",
    "    raw_value = get_raw_value(hand, is_joker_special)\n",
    "    hand_type = get_type_value(hand, is_joker_special)\n",
    "    return int(f'{hand_type}{raw_value}')\n",
    "\n",
    "def solve(filename, is_joker_special):\n",
    "    plays = []\n",
    "    with open(filename) as f:\n",
    "        for line in f:\n",
    "            hand, bid = line.split()\n",
    "            plays.append((hand, int(bid)))\n",
    "    plays.sort(key=lambda x: get_value(x[0], is_joker_special))\n",
    "    result = 0\n",
    "    for i, play in enumerate(plays):\n",
    "        hand, bid = play\n",
    "        result += bid * (i + 1)\n",
    "    print(result)\n",
    "\n",
    "print('part one:')\n",
    "solve('test_input.txt', False)\n",
    "solve('input.txt', False)\n",
    "print('part two:')\n",
    "solve('test_input.txt', True)\n",
    "solve('input.txt', True)"
   ]
  }
 ],
 "metadata": {
  "kernelspec": {
   "display_name": "p310",
   "language": "python",
   "name": "python3"
  },
  "language_info": {
   "codemirror_mode": {
    "name": "ipython",
    "version": 3
   },
   "file_extension": ".py",
   "mimetype": "text/x-python",
   "name": "python",
   "nbconvert_exporter": "python",
   "pygments_lexer": "ipython3",
   "version": "3.10.13"
  }
 },
 "nbformat": 4,
 "nbformat_minor": 2
}
