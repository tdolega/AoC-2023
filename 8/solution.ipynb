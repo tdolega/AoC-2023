{
 "cells": [
  {
   "cell_type": "code",
   "execution_count": 43,
   "metadata": {},
   "outputs": [
    {
     "name": "stdout",
     "output_type": "stream",
     "text": [
      "Part one:\n",
      "2\n",
      "6\n",
      "20777\n",
      "Part two:\n",
      "6\n",
      "13289612809129\n"
     ]
    }
   ],
   "source": [
    "import numpy as np\n",
    "\n",
    "\n",
    "def solve(instructions, nodes, node):\n",
    "    steps = 0\n",
    "    while node[-1] != \"Z\":  # for part 1 should be 'ZZZ' but this works for both\n",
    "        instruction = instructions[steps % len(instructions)]\n",
    "        node = nodes[node][instruction]\n",
    "        steps += 1\n",
    "    return steps\n",
    "\n",
    "\n",
    "def solution(filename, part2):\n",
    "    with open(filename) as f:\n",
    "        lines = f.readlines()\n",
    "\n",
    "    instructions = lines[0].strip()\n",
    "    instructions = [0 if i == \"L\" else 1 for i in instructions]\n",
    "\n",
    "    nodes = {}\n",
    "    for line in lines[2:]:\n",
    "        node, children_names = line.strip().split(\" = \")\n",
    "        nodes[node] = children_names[1:-1].split(\", \")\n",
    "\n",
    "    if part2:\n",
    "        start_nodes = [node for node in nodes if node[-1] == \"A\"]\n",
    "    else:\n",
    "        start_nodes = [\"AAA\"]\n",
    "\n",
    "    steps = [solve(instructions, nodes, node) for node in start_nodes]\n",
    "    result = np.lcm.reduce(steps)\n",
    "    print(result)\n",
    "\n",
    "\n",
    "print(\"Part one:\")\n",
    "solution(\"test_input.txt\", False)\n",
    "solution(\"test_input2.txt\", False)\n",
    "solution(\"input.txt\", False)\n",
    "print(\"Part two:\")\n",
    "solution(\"test_input3.txt\", True)\n",
    "solution(\"input.txt\", True)"
   ]
  }
 ],
 "metadata": {
  "kernelspec": {
   "display_name": "p310",
   "language": "python",
   "name": "python3"
  },
  "language_info": {
   "codemirror_mode": {
    "name": "ipython",
    "version": 3
   },
   "file_extension": ".py",
   "mimetype": "text/x-python",
   "name": "python",
   "nbconvert_exporter": "python",
   "pygments_lexer": "ipython3",
   "version": "3.10.13"
  }
 },
 "nbformat": 4,
 "nbformat_minor": 2
}
