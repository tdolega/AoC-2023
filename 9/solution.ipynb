{
 "cells": [
  {
   "cell_type": "code",
   "execution_count": 7,
   "metadata": {},
   "outputs": [
    {
     "name": "stdout",
     "output_type": "stream",
     "text": [
      "Part one:\n",
      "114\n",
      "1884768153\n",
      "Part two:\n",
      "2\n",
      "1031\n"
     ]
    }
   ],
   "source": [
    "def solve_line(line, lookup_pos):\n",
    "    # parse\n",
    "    numbers = line.split()\n",
    "    numbers = list(map(int, numbers))\n",
    "    # create tree\n",
    "    steps = [numbers]\n",
    "    while any([n != 0 for n in steps[-1]]):\n",
    "        step = steps[-1]\n",
    "        next_step = [n2 - n1 for (n1, n2) in zip(step, step[1:])]\n",
    "        steps.append(next_step)\n",
    "    # predict\n",
    "    for i in range(len(steps) - 1):\n",
    "        i = len(steps) - i - 1\n",
    "        last_here = steps[i][lookup_pos]\n",
    "        last_above = steps[i - 1][lookup_pos]\n",
    "        if lookup_pos == 0:\n",
    "            steps[i - 1].insert(lookup_pos, last_above - last_here)\n",
    "        else:  # -1\n",
    "            steps[i - 1].append(last_above + last_here)\n",
    "    return steps[0][lookup_pos]\n",
    "\n",
    "\n",
    "def solve(filename, lookup_pos):\n",
    "    result = 0\n",
    "    with open(filename) as f:\n",
    "        for line in f:\n",
    "            result += solve_line(line, lookup_pos)\n",
    "    print(result)\n",
    "\n",
    "\n",
    "print(\"Part one:\")\n",
    "solve(\"test_input.txt\", -1)\n",
    "solve(\"input.txt\", -1)\n",
    "print(\"Part two:\")\n",
    "solve(\"test_input.txt\", 0)\n",
    "solve(\"input.txt\", 0)"
   ]
  }
 ],
 "metadata": {
  "kernelspec": {
   "display_name": "Python 3",
   "language": "python",
   "name": "python3"
  },
  "language_info": {
   "codemirror_mode": {
    "name": "ipython",
    "version": 3
   },
   "file_extension": ".py",
   "mimetype": "text/x-python",
   "name": "python",
   "nbconvert_exporter": "python",
   "pygments_lexer": "ipython3",
   "version": "3.11.6"
  }
 },
 "nbformat": 4,
 "nbformat_minor": 2
}
